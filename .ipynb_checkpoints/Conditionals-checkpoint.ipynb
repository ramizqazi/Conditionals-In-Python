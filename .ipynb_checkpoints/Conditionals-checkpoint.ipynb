{
 "cells": [
  {
   "cell_type": "markdown",
   "id": "f2e1ea19",
   "metadata": {},
   "source": [
    "# Conditions In Python"
   ]
  },
  {
   "cell_type": "code",
   "execution_count": 4,
   "id": "779ba97e",
   "metadata": {},
   "outputs": [
    {
     "name": "stdout",
     "output_type": "stream",
     "text": [
      "Is it raining outside yes/nono\n",
      "Class On Time\n"
     ]
    }
   ],
   "source": [
    "status = None;\n",
    "isRaining = input('Is it raining outside yes/no');\n",
    "\n",
    "if (isRaining == 'yes'):\n",
    "    status = 'Cancel';\n",
    "else: \n",
    "    status = 'On Time'\n",
    "    \n",
    "print(f\"Class {status}\");"
   ]
  },
  {
   "cell_type": "code",
   "execution_count": 10,
   "id": "7639fbe7",
   "metadata": {},
   "outputs": [
    {
     "name": "stdout",
     "output_type": "stream",
     "text": [
      "Enter you percentage-50\n",
      "You are Fail\n"
     ]
    }
   ],
   "source": [
    "result = None;\n",
    "marks = int(input('Enter you percentage'));\n",
    "\n",
    "if (marks >= 70):\n",
    "    result = \"Pass\";\n",
    "else: \n",
    "    result = 'Fail';\n",
    "\n",
    "print(f\"You are {result}\")"
   ]
  },
  {
   "cell_type": "code",
   "execution_count": 4,
   "id": "cc166b6c",
   "metadata": {},
   "outputs": [
    {
     "name": "stdout",
     "output_type": "stream",
     "text": [
      "Enter your idramizqazi\n",
      "Enter your passwordramizqazi123\n",
      "You are Logged in\n"
     ]
    }
   ],
   "source": [
    "user_id = 'ramizqazi';\n",
    "password = 'ramizqazi123';\n",
    "\n",
    "uid = input('Enter your id');\n",
    "authenticated = None;\n",
    "\n",
    "if (user_id == uid) :\n",
    "    pwd = input('Enter your password');\n",
    "    if(password == pwd) :\n",
    "        authenticated = 'You are Logged in';\n",
    "    else :\n",
    "        authenticated = 'Your Pasword did not match';\n",
    "else : \n",
    "    authenticated = 'Your User id did not match';\n",
    "    \n",
    "print(authenticated);"
   ]
  },
  {
   "cell_type": "code",
   "execution_count": 12,
   "id": "7023073b",
   "metadata": {},
   "outputs": [
    {
     "name": "stdout",
     "output_type": "stream",
     "text": [
      "Enter your required brandpolo\n",
      "Enter colorblack\n",
      "Enter sizem\n",
      "Enter price300\n",
      "You have bought Black Polo Medium Size Shirt\n"
     ]
    }
   ],
   "source": [
    "cart = None;\n",
    "brand = input('Enter your required brand').lower();\n",
    "\n",
    "if (brand == 'polo'): \n",
    "    color = input('Enter color').lower();\n",
    "    if(color == 'black') :\n",
    "        size = input('Enter size').lower();\n",
    "        if(size == 'm'): \n",
    "            price = int(input('Enter price'));\n",
    "            if(price < 1000) :\n",
    "                cart = \"Black Polo Medium Size Shirt\";\n",
    "            else :\n",
    "                print('Out of budget');\n",
    "                cart = 'Nothing';\n",
    "        else :\n",
    "            print('Size not availible');\n",
    "            cart = 'Nothing';\n",
    "    else: \n",
    "        print('Color not availible');\n",
    "        cart = 'Nothing';\n",
    "else : \n",
    "    print('Brand not availible');\n",
    "    cart = 'Nothing';\n",
    "\n",
    "print(f\"You have bought {cart}\")"
   ]
  },
  {
   "cell_type": "code",
   "execution_count": null,
   "id": "a88934ad",
   "metadata": {},
   "outputs": [],
   "source": [
    "grade = None;\n",
    "\n",
    "python = int(input(\"Enter python marks\"));\n",
    "java = int(input(\"Enter java marks\"));\n",
    "javascript = int(input(\"Enter javascript marks\"));\n",
    "php = int(input(\"Enter php marks\"));\n",
    "c = int(input(\"Enter c marks\"));\n",
    "\n",
    "total = python + java + javascript + php + c;\n",
    "percentage = total / 500 * 100;\n",
    "\n",
    "if(percentage >= 90) :\n",
    "    grade = 'A+'\n",
    "elif(percentage  >= 80) :\n",
    "    grade = 'A'\n",
    "elif(percentage >= 70) :\n",
    "    grade = 'B\n",
    "else :\n",
    "    grade = 'U'\n",
    "    \n",
    "print(f\"\"\"\n",
    "    Result:\n",
    "        total : {total}\n",
    "        percentage: {percentage}\n",
    "        grade : {grade}\n",
    "      \"\"\")\n"
   ]
  }
 ],
 "metadata": {
  "kernelspec": {
   "display_name": "Python 3 (ipykernel)",
   "language": "python",
   "name": "python3"
  },
  "language_info": {
   "codemirror_mode": {
    "name": "ipython",
    "version": 3
   },
   "file_extension": ".py",
   "mimetype": "text/x-python",
   "name": "python",
   "nbconvert_exporter": "python",
   "pygments_lexer": "ipython3",
   "version": "3.9.12"
  }
 },
 "nbformat": 4,
 "nbformat_minor": 5
}
